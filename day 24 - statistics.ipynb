{
 "cells": [
  {
   "cell_type": "code",
   "execution_count": 52,
   "id": "a87104d8",
   "metadata": {},
   "outputs": [],
   "source": [
    "import numpy as np"
   ]
  },
  {
   "cell_type": "code",
   "execution_count": 53,
   "id": "21e7798f",
   "metadata": {},
   "outputs": [
    {
     "name": "stdout",
     "output_type": "stream",
     "text": [
      "Version:  2.2.4\n"
     ]
    }
   ],
   "source": [
    "#version\n",
    "print(\"Version: \",np.__version__)"
   ]
  },
  {
   "cell_type": "code",
   "execution_count": 54,
   "id": "687149e7",
   "metadata": {},
   "outputs": [
    {
     "name": "stdout",
     "output_type": "stream",
     "text": [
      "<class 'numpy.ndarray'>\n",
      "[1 2 3 4]\n"
     ]
    }
   ],
   "source": [
    "python_list=[1,2,3,4]\n",
    "\n",
    "two_dimensional_list=[[1,2,3],[4,5,6]]\n",
    "\n",
    "np_list=np.array(python_list)\n",
    "print(type(np_list))\n",
    "print(np_list)"
   ]
  },
  {
   "cell_type": "code",
   "execution_count": 55,
   "id": "f48071dd",
   "metadata": {},
   "outputs": [
    {
     "name": "stdout",
     "output_type": "stream",
     "text": [
      "[ True False False  True False  True]\n"
     ]
    }
   ],
   "source": [
    "#Creating a bool numpy array from a list\n",
    "arr=[1,0,0,5,0,3]\n",
    "bool_arr=np.array(arr, dtype=bool)\n",
    "print(bool_arr)"
   ]
  },
  {
   "cell_type": "code",
   "execution_count": 56,
   "id": "f367813b",
   "metadata": {},
   "outputs": [
    {
     "name": "stdout",
     "output_type": "stream",
     "text": [
      "[[1 2 3]\n",
      " [4 5 6]]\n"
     ]
    }
   ],
   "source": [
    "#Multidimensional array\n",
    "mdarray=np.array(two_dimensional_list)\n",
    "print(mdarray)"
   ]
  },
  {
   "cell_type": "code",
   "execution_count": 57,
   "id": "cb19115c",
   "metadata": {},
   "outputs": [
    {
     "data": {
      "text/plain": [
       "[1, 2, 3, 4]"
      ]
     },
     "execution_count": 57,
     "metadata": {},
     "output_type": "execute_result"
    }
   ],
   "source": [
    "#Converting an array to a list\n",
    "np_list.tolist()"
   ]
  },
  {
   "cell_type": "code",
   "execution_count": 58,
   "id": "f8a8655f",
   "metadata": {},
   "outputs": [
    {
     "name": "stdout",
     "output_type": "stream",
     "text": [
      "[1 2 4]\n"
     ]
    }
   ],
   "source": [
    "tup=(1,2,4)\n",
    "tup_array=np.array(tup)\n",
    "print(tup_array)"
   ]
  },
  {
   "cell_type": "code",
   "execution_count": 59,
   "id": "22c90740",
   "metadata": {},
   "outputs": [
    {
     "name": "stdout",
     "output_type": "stream",
     "text": [
      "(3,)\n",
      "(2, 3)\n"
     ]
    }
   ],
   "source": [
    "print(tup_array.shape)  #1d\n",
    "print(mdarray.shape)    #2d"
   ]
  },
  {
   "cell_type": "code",
   "execution_count": 60,
   "id": "1693d0d8",
   "metadata": {},
   "outputs": [
    {
     "name": "stdout",
     "output_type": "stream",
     "text": [
      "int64\n",
      "float64\n"
     ]
    }
   ],
   "source": [
    "#dtype method to see type of data in an array\n",
    "s=np.array([4,2,1])\n",
    "print(s.dtype)\n",
    "\n",
    "a=np.array([1.2,5,2.6])\n",
    "print(a.dtype)"
   ]
  },
  {
   "cell_type": "code",
   "execution_count": 61,
   "id": "922fcc6b",
   "metadata": {},
   "outputs": [
    {
     "name": "stdout",
     "output_type": "stream",
     "text": [
      "6\n"
     ]
    }
   ],
   "source": [
    "#size of a numpy array. This is the total # of elements\n",
    "print(mdarray.size)"
   ]
  },
  {
   "cell_type": "code",
   "execution_count": 62,
   "id": "00e362ed",
   "metadata": {},
   "outputs": [
    {
     "name": "stdout",
     "output_type": "stream",
     "text": [
      "[4 5 7 4]\n"
     ]
    }
   ],
   "source": [
    "#operations on a numpy array\n",
    "\n",
    "arr=np.array([1,2,4,1])\n",
    "add=arr+3\n",
    "print(add)\n",
    "\n",
    "#the same can be done for all operations"
   ]
  },
  {
   "cell_type": "code",
   "execution_count": 63,
   "id": "0046333b",
   "metadata": {},
   "outputs": [
    {
     "name": "stdout",
     "output_type": "stream",
     "text": [
      "[1. 4. 2. 4.]\n",
      "[1 4]\n",
      "['1' '4']\n"
     ]
    }
   ],
   "source": [
    "#Converting data types. Use the dtype argument.\n",
    "float2int=np.array([1,4,2,4], dtype='float')\n",
    "int2float=np.array([1.2,4.3], dtype='int')\n",
    "print(float2int)\n",
    "print(int2float)\n",
    "\n",
    "#The same for 'bool' and '<U21' (String)\n",
    "#OR\n",
    "str_Arr=int2float.astype('int').astype('str')\n",
    "print(str_Arr)"
   ]
  },
  {
   "cell_type": "code",
   "execution_count": 64,
   "id": "a530e8dc",
   "metadata": {},
   "outputs": [
    {
     "name": "stdout",
     "output_type": "stream",
     "text": [
      "int64\n",
      "float64\n",
      "bool\n"
     ]
    }
   ],
   "source": [
    "#Int,  Float numbers\n",
    "numpy_int_arr = np.array([1,2,3,4])\n",
    "numpy_float_arr = np.array([1.1, 2.0,3.2])\n",
    "numpy_bool_arr = np.array([-3, -2, 0, 1,2,3], dtype='bool')\n",
    "\n",
    "print(numpy_int_arr.dtype)\n",
    "print(numpy_float_arr.dtype)\n",
    "print(numpy_bool_arr.dtype)"
   ]
  },
  {
   "cell_type": "code",
   "execution_count": 65,
   "id": "386693a9",
   "metadata": {},
   "outputs": [
    {
     "name": "stdout",
     "output_type": "stream",
     "text": [
      "[7.78355015 1.63228081]\n"
     ]
    }
   ],
   "source": [
    "#generating an array that follows a normal distribution\n",
    "#arguments are mew, sigma and size\n",
    "normal_arr=np.random.normal(4,5,2)\n",
    "print(normal_arr)"
   ]
  },
  {
   "cell_type": "markdown",
   "id": "eca0681a",
   "metadata": {},
   "source": [
    "Numpy and Statistics"
   ]
  },
  {
   "cell_type": "code",
   "execution_count": 66,
   "id": "7c515adb",
   "metadata": {},
   "outputs": [
    {
     "data": {
      "image/png": "[encoded data removed]",
      "text/plain": [
       "<Figure size 640x480 with 1 Axes>"
      ]
     },
     "metadata": {},
     "output_type": "display_data"
    }
   ],
   "source": [
    "import matplotlib.pyplot as plt\n",
    "import seaborn as sns\n",
    "\n",
    "normal_arr=np.random.normal(60,10,100)\n",
    "\n",
    "sns.set_theme() #seaborn default theme for aes\n",
    "plt.hist(normal_arr, color=\"red\", bins=45)\n",
    "plt.show()  #To print just the plot"
   ]
  },
  {
   "cell_type": "markdown",
   "id": "51e9b538",
   "metadata": {},
   "source": [
    "Matrix in numpy"
   ]
  },
  {
   "cell_type": "code",
   "execution_count": 67,
   "id": "5ad757d0",
   "metadata": {},
   "outputs": [
    {
     "data": {
      "text/plain": [
       "matrix([[1, 2, 3],\n",
       "        [6, 7, 8]])"
      ]
     },
     "execution_count": 67,
     "metadata": {},
     "output_type": "execute_result"
    }
   ],
   "source": [
    "mat=np.matrix(((1,2,3),(6,7,8)), dtype=int)\n",
    "mat"
   ]
  },
  {
   "cell_type": "code",
   "execution_count": 68,
   "id": "7586a3de",
   "metadata": {},
   "outputs": [
    {
     "data": {
      "text/plain": [
       "matrix([[1, 1, 1, 1],\n",
       "        [1, 1, 1, 1],\n",
       "        [1, 1, 1, 1],\n",
       "        [1, 1, 1, 1]])"
      ]
     },
     "execution_count": 68,
     "metadata": {},
     "output_type": "execute_result"
    }
   ],
   "source": [
    "#matrix of ones\n",
    "four_by_four=np.matrix(np.ones((4,4), dtype=int))\n",
    "four_by_four"
   ]
  },
  {
   "cell_type": "code",
   "execution_count": 69,
   "id": "f1104363",
   "metadata": {},
   "outputs": [
    {
     "name": "stdout",
     "output_type": "stream",
     "text": [
      "[[3 3 3 3]\n",
      " [1 1 1 1]\n",
      " [1 1 1 1]\n",
      " [1 1 1 1]]\n"
     ]
    }
   ],
   "source": [
    "#change a whole row\n",
    "four_by_four[0]=3\n",
    "print(four_by_four)"
   ]
  },
  {
   "cell_type": "code",
   "execution_count": 70,
   "id": "a97afe72",
   "metadata": {},
   "outputs": [
    {
     "name": "stdout",
     "output_type": "stream",
     "text": [
      "range(1, 10, 2)\n",
      "[1 3 5 7 9]\n"
     ]
    }
   ],
   "source": [
    "#creating an arithmetic , similar to range, is arange\n",
    "vals=range(1,10,2)\n",
    "print(vals)\n",
    "\n",
    "below_10=np.arange(1,10,2)\n",
    "print(below_10)"
   ]
  },
  {
   "cell_type": "code",
   "execution_count": 71,
   "id": "30c4deb6",
   "metadata": {},
   "outputs": [
    {
     "name": "stdout",
     "output_type": "stream",
     "text": [
      "[ 1.    3.25  5.5   7.75 10.  ]\n",
      "[1.  2.8 4.6 6.4 8.2]\n"
     ]
    }
   ],
   "source": [
    "#using linspace for a series\n",
    "inclusive=np.linspace(1,10,5)   #start at, end at, no of values\n",
    "exclusive=np.linspace(1,10,5, endpoint=False)   #excludes 10\n",
    "print(inclusive)\n",
    "print(exclusive)\n",
    "\n",
    "#The same can be done using logspace"
   ]
  },
  {
   "cell_type": "code",
   "execution_count": 72,
   "id": "dbb9f3b0",
   "metadata": {},
   "outputs": [
    {
     "name": "stdout",
     "output_type": "stream",
     "text": [
      "[1.+0.j 2.+0.j 3.+0.j]\n"
     ]
    },
    {
     "data": {
      "text/plain": [
       "16"
      ]
     },
     "execution_count": 72,
     "metadata": {},
     "output_type": "execute_result"
    }
   ],
   "source": [
    "comp=np.array([1,2,3], dtype=\"complex128\")\n",
    "print(comp)\n",
    "comp.itemsize   #no of bytes used to store the variable"
   ]
  },
  {
   "cell_type": "markdown",
   "id": "01888907",
   "metadata": {},
   "source": [
    "Indexing and slicing"
   ]
  },
  {
   "cell_type": "code",
   "execution_count": 73,
   "id": "52811454",
   "metadata": {},
   "outputs": [
    {
     "name": "stdout",
     "output_type": "stream",
     "text": [
      "[[1 2 3]\n",
      " [4 5 6]]\n",
      "[1 2 3]\n",
      "[1 4]\n"
     ]
    }
   ],
   "source": [
    "print(mdarray)\n",
    "print(mdarray[0])   #first row\n",
    "print(mdarray[:,0]) #every row of the first col"
   ]
  },
  {
   "cell_type": "markdown",
   "id": "12c6d2f4",
   "metadata": {},
   "source": [
    "Numpy Functions:<br>\n",
    "Min np.min()<br>\n",
    "Max np.max()<br>\n",
    "Mean np.mean()<br>\n",
    "Median np.median()<br>\n",
    "Varience<br>\n",
    "Percentile<br>\n",
    "Standard deviation np.std()\n"
   ]
  },
  {
   "cell_type": "code",
   "execution_count": 74,
   "id": "313129d6",
   "metadata": {},
   "outputs": [
    {
     "name": "stdout",
     "output_type": "stream",
     "text": [
      "[[1 2 3]\n",
      " [4 5 6]]\n",
      "max_total  6\n",
      "max_col [4 5 6]\n",
      "max_row [3 6]\n"
     ]
    }
   ],
   "source": [
    "print(mdarray)\n",
    "print(\"max_total \", np.amax(mdarray))\n",
    "print(\"max_col\", np.amax(mdarray, axis=0))  #0 is for cols and 1 for rows\n",
    "print(\"max_row\", np.amax(mdarray, axis=1))"
   ]
  },
  {
   "cell_type": "markdown",
   "id": "951382e7",
   "metadata": {},
   "source": [
    "Repeating sequences"
   ]
  },
  {
   "cell_type": "code",
   "execution_count": 77,
   "id": "fa2027b8",
   "metadata": {},
   "outputs": [
    {
     "name": "stdout",
     "output_type": "stream",
     "text": [
      "[1 2 3 1 2 3 1 2 3]\n",
      "[1 1 1 2 2 2 3 3 3]\n"
     ]
    }
   ],
   "source": [
    "#whole seq repeated\n",
    "a=[1,2,3]\n",
    "print(np.tile(a, 3))\n",
    "\n",
    "#each element repeated\n",
    "print(np.repeat(a,3))"
   ]
  },
  {
   "cell_type": "markdown",
   "id": "b2d2fa12",
   "metadata": {},
   "source": [
    "Random number generation"
   ]
  },
  {
   "cell_type": "code",
   "execution_count": 81,
   "id": "b58a3093",
   "metadata": {},
   "outputs": [
    {
     "name": "stdout",
     "output_type": "stream",
     "text": [
      "0.6422831452316353\n"
     ]
    }
   ],
   "source": [
    "num=np.random.random()  #random number between 0 and 1\n",
    "print(num)"
   ]
  },
  {
   "cell_type": "markdown",
   "id": "b1c99925",
   "metadata": {},
   "source": [
    "Other ways to perforom random number generation using np.random module\n",
    "- `random()` generates a single float sampled uniformly from the interval [0.0, 1.0).\n",
    "- `rand()` generates one or more floats sampled uniformly from [0.0, 1.0), with the shape specified as arguments.\n",
    "- `randn()` generates samples from a standard normal distribution with a mean of 0 and a standard deviation of 1.\n",
    "- `randint(low, high)` generates random integers from `low` (inclusive) to `high - 1` (inclusive).\n",
    "- `choice()` randomly selects one or more elements from a given sequence or array."
   ]
  },
  {
   "cell_type": "code",
   "execution_count": 84,
   "id": "a540a2e8",
   "metadata": {},
   "outputs": [
    {
     "name": "stdout",
     "output_type": "stream",
     "text": [
      "[[0.63766132 0.50831605 0.08987521 0.31587594]\n",
      " [0.46516569 0.13144523 0.83580206 0.74036229]\n",
      " [0.40079811 0.76935965 0.11330653 0.87205761]]\n"
     ]
    }
   ],
   "source": [
    "#specify the shape using the 'size' argument\n",
    "matr=np.random.random(size=[3,4])\n",
    "print(matr)"
   ]
  },
  {
   "cell_type": "code",
   "execution_count": 88,
   "id": "f5e5bb18",
   "metadata": {},
   "outputs": [
    {
     "data": {
      "text/plain": [
       "array([3, 4, 2, 2])"
      ]
     },
     "execution_count": 88,
     "metadata": {},
     "output_type": "execute_result"
    }
   ],
   "source": [
    "# choose from a list\n",
    "np.random.choice([1,2,4,1,3,5], size=4)"
   ]
  },
  {
   "cell_type": "code",
   "execution_count": 90,
   "id": "82e73248",
   "metadata": {},
   "outputs": [
    {
     "data": {
      "text/plain": [
       "array([[0.69218019, 0.31339873, 0.99279593]])"
      ]
     },
     "execution_count": 90,
     "metadata": {},
     "output_type": "execute_result"
    }
   ],
   "source": [
    "#choose between two values\n",
    "np.random.rand(1,3)"
   ]
  },
  {
   "cell_type": "code",
   "execution_count": 91,
   "id": "b5e8a5c8",
   "metadata": {},
   "outputs": [
    {
     "data": {
      "text/plain": [
       "array([[ 1.563796  , -0.07212999,  0.64137095],\n",
       "       [ 0.07018788, -1.26471606,  1.07634122]])"
      ]
     },
     "execution_count": 91,
     "metadata": {},
     "output_type": "execute_result"
    }
   ],
   "source": [
    "#normal distribution with mean 0 and var of 1 \n",
    "np.random.randn(2,3)"
   ]
  },
  {
   "cell_type": "code",
   "execution_count": 93,
   "id": "79987073",
   "metadata": {},
   "outputs": [
    {
     "data": {
      "text/plain": [
       "array([[3, 2, 4, 3, 4, 3, 2, 3, 3, 2],\n",
       "       [3, 3, 4, 4, 4, 4, 3, 2, 3, 3]], dtype=int32)"
      ]
     },
     "execution_count": 93,
     "metadata": {},
     "output_type": "execute_result"
    }
   ],
   "source": [
    "#between 2 values of a certain size\n",
    "np.random.randint(2,5,[2,10])"
   ]
  },
  {
   "cell_type": "code",
   "execution_count": 94,
   "id": "67d68333",
   "metadata": {},
   "outputs": [
    {
     "name": "stdout",
     "output_type": "stream",
     "text": [
      "min:  -7.5062846063874495\n",
      "max:  10.98603953134633\n",
      "mean:  0.7148433299430118\n",
      "median:  0.7166382444156016\n",
      "mode:  ModeResult(mode=np.float64(-7.5062846063874495), count=np.int64(1))\n",
      "sd:  2.9050565465590528\n"
     ]
    }
   ],
   "source": [
    "from scipy import datasets\n",
    "from scipy import stats\n",
    "np_normal_dis = np.random.normal(0.5, 3,1000)\n",
    "np_normal_dis\n",
    "## min, max, mean, median, sd\n",
    "print('min: ', np.min(np_normal_dis))\n",
    "print('max: ', np.max(np_normal_dis))\n",
    "print('mean: ', np.mean(np_normal_dis))\n",
    "print('median: ', np.median(np_normal_dis))\n",
    "print('mode: ', stats.mode(np_normal_dis))  #the stats module has the mode function\n",
    "print('sd: ', np.std(np_normal_dis))"
   ]
  },
  {
   "cell_type": "code",
   "execution_count": 98,
   "id": "c047fb2f",
   "metadata": {},
   "outputs": [
    {
     "data": {
      "image/png": "[encoded data removed]",
      "text/plain": [
       "<Figure size 640x480 with 1 Axes>"
      ]
     },
     "metadata": {},
     "output_type": "display_data"
    }
   ],
   "source": [
    "plt.hist(np_normal_dis)\n",
    "plt.show()"
   ]
  },
  {
   "cell_type": "markdown",
   "id": "c25fb595",
   "metadata": {},
   "source": [
    "# Linear Algebra"
   ]
  },
  {
   "cell_type": "code",
   "execution_count": 101,
   "id": "5a23b0d9",
   "metadata": {},
   "outputs": [
    {
     "data": {
      "text/plain": [
       "np.int64(33)"
      ]
     },
     "execution_count": 101,
     "metadata": {},
     "output_type": "execute_result"
    }
   ],
   "source": [
    "#dot prduct (multiply the two elements at the same position then add the results)\n",
    "a=np.array([1,5,2,1])\n",
    "b=np.array([1,4,3,6])\n",
    "np.dot(a,b)"
   ]
  },
  {
   "cell_type": "code",
   "execution_count": 114,
   "id": "bf47cc73",
   "metadata": {},
   "outputs": [
    {
     "data": {
      "text/plain": [
       "matrix([[73, 44],\n",
       "        [32, 42]])"
      ]
     },
     "execution_count": 114,
     "metadata": {},
     "output_type": "execute_result"
    }
   ],
   "source": [
    "#matrix multiplication\n",
    "c=np.matrix(((1,5,3),(5,1,2)))\n",
    "d=np.matrix(((1,4),(9,2),(9,10)))\n",
    "result=np.matmul(c,d)\n",
    "result"
   ]
  },
  {
   "cell_type": "code",
   "execution_count": 115,
   "id": "b85b8840",
   "metadata": {},
   "outputs": [
    {
     "data": {
      "text/plain": [
       "np.float64(1657.9999999999989)"
      ]
     },
     "execution_count": 115,
     "metadata": {},
     "output_type": "execute_result"
    }
   ],
   "source": [
    "#determinant\n",
    "np.linalg.det(result)"
   ]
  },
  {
   "cell_type": "code",
   "execution_count": 122,
   "id": "a23e1db5",
   "metadata": {},
   "outputs": [
    {
     "data": {
      "text/plain": [
       "array([[0., 1., 0., 1., 0., 1., 0., 1.],\n",
       "       [1., 0., 1., 0., 1., 0., 1., 0.],\n",
       "       [0., 1., 0., 1., 0., 1., 0., 1.],\n",
       "       [1., 0., 1., 0., 1., 0., 1., 0.],\n",
       "       [0., 1., 0., 1., 0., 1., 0., 1.],\n",
       "       [1., 0., 1., 0., 1., 0., 1., 0.],\n",
       "       [0., 1., 0., 1., 0., 1., 0., 1.],\n",
       "       [1., 0., 1., 0., 1., 0., 1., 0.]])"
      ]
     },
     "execution_count": 122,
     "metadata": {},
     "output_type": "execute_result"
    }
   ],
   "source": [
    "zero_mat=np.zeros((8,8))\n",
    "zero_mat[1::2, ::2]=1   #sets every other value from pos 0 to 1 of all the even rows (starts from row 1)\n",
    "zero_mat[::2, 1::2]=1   #sets every other value from pos 1 to 1 of all the odd rows (starts from row 0)\n",
    "\n",
    "zero_mat"
   ]
  },
  {
   "cell_type": "code",
   "execution_count": null,
   "id": "4e8e7462",
   "metadata": {},
   "outputs": [
    {
     "data": {
      "text/plain": [
       "array([ 7,  9, 11, 13, 15])"
      ]
     },
     "execution_count": 123,
     "metadata": {},
     "output_type": "execute_result"
    }
   ],
   "source": [
    "# Calculations when there is a linear relationship\n",
    "temp = np.array([1,2,3,4,5])\n",
    "pressure = temp * 2 + 5\n",
    "pressure"
   ]
  },
  {
   "cell_type": "code",
   "execution_count": 124,
   "id": "4fa76145",
   "metadata": {},
   "outputs": [
    {
     "data": {
      "image/png": "[encoded data removed]",
      "text/plain": [
       "<Figure size 640x480 with 1 Axes>"
      ]
     },
     "metadata": {},
     "output_type": "display_data"
    }
   ],
   "source": [
    "plt.plot(temp,pressure)\n",
    "plt.xlabel('Temperature in oC')\n",
    "plt.ylabel('Pressure in atm')\n",
    "plt.title('Temperature vs Pressure')\n",
    "plt.xticks(np.arange(0, 6, step=0.5))\n",
    "plt.show()"
   ]
  },
  {
   "cell_type": "code",
   "execution_count": 127,
   "id": "ef9d7c69",
   "metadata": {},
   "outputs": [
    {
     "data": {
      "image/png": "[encoded data removed]",
      "text/plain": [
       "<Figure size 640x480 with 1 Axes>"
      ]
     },
     "metadata": {},
     "output_type": "display_data"
    }
   ],
   "source": [
    "mu = 28\n",
    "sigma = 15\n",
    "samples = 100000\n",
    "\n",
    "x = np.random.normal(mu, sigma, samples)\n",
    "ax = sns.histplot(x)\n",
    "ax.set(xlabel=\"x\", ylabel='y')\n",
    "plt.show()"
   ]
  }
 ],
 "metadata": {
  "kernelspec": {
   "display_name": "Python 3",
   "language": "python",
   "name": "python3"
  },
  "language_info": {
   "codemirror_mode": {
    "name": "ipython",
    "version": 3
   },
   "file_extension": ".py",
   "mimetype": "text/x-python",
   "name": "python",
   "nbconvert_exporter": "python",
   "pygments_lexer": "ipython3",
   "version": "3.13.1"
  }
 },
 "nbformat": 4,
 "nbformat_minor": 5
}
