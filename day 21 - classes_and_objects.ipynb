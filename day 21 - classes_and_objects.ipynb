{
 "cells": [
  {
   "cell_type": "code",
   "execution_count": 5,
   "id": "74136c0d",
   "metadata": {},
   "outputs": [
    {
     "name": "stdout",
     "output_type": "stream",
     "text": [
      "[(31, 2), (26, 5), (34, 2), (37, 2), (27, 4), (32, 3), (24, 2), (33, 2), (25, 1), (38, 1), (29, 1)]\n"
     ]
    }
   ],
   "source": [
    "#create a module statistics for calculating measures of central tendency and dispersion\n",
    "import statistics\n",
    "\n",
    "class Statistics:\n",
    "    def __init__(self, data):\n",
    "        self.data=data\n",
    "\n",
    "    def count(self):\n",
    "        return len(self.data)\n",
    "    \n",
    "    def minimum(self):\n",
    "        return min(self.data)\n",
    "    \n",
    "    def maximum(self):\n",
    "        return max(self.data)\n",
    "    \n",
    "    def range(self):\n",
    "        return max(self.data)-min(self.data)\n",
    "\n",
    "    def mean(self):\n",
    "        return statistics.mean(self.data)\n",
    "    \n",
    "    def median(self):\n",
    "        return statistics.median(self.data)\n",
    "    \n",
    "    def mode(self):\n",
    "        return statistics.mode(self.data)\n",
    "    \n",
    "    def var(self):\n",
    "        return statistics.variance(self.data)\n",
    "    \n",
    "    def std(self):\n",
    "        return statistics.stdev(self.data)\n",
    "    \n",
    "    def freq_dist(self):\n",
    "        values=[]\n",
    "        count=[]\n",
    "        for d in self.data:\n",
    "            if d not in values:\n",
    "                values.append(d)\n",
    "                count.append(1)\n",
    "            else:\n",
    "                id=values.index(d)\n",
    "                count[id]+=1\n",
    "        return list(zip(values, count))\n",
    "    \n",
    "\n",
    "    \n",
    "\n",
    "ages = Statistics([31, 26, 34, 37, 27, 26, 32, 32, 26, 27, 27, 24, 32, 33, 27, 25, 26, 38, 37, 31, 34, 24, 33, 29, 26])\n",
    "print(ages.freq_dist())"
   ]
  },
  {
   "cell_type": "code",
   "execution_count": 11,
   "id": "e9cc447a",
   "metadata": {},
   "outputs": [
    {
     "name": "stdout",
     "output_type": "stream",
     "text": [
      "Account name: Romeo Joseph\n",
      " Incomes: [(7000, 'Selling lentils')], Expenses: [(5000, 'Theyfriend')]\n",
      "Account balance  2000\n"
     ]
    }
   ],
   "source": [
    "#Attributes: firstname, lastname, incomes, expenses properties and\n",
    "#Methods: total_income, total_expense, account_info, add_income, add_expense and account_balance methods.\n",
    "\n",
    "class PersonAccount:\n",
    "    def __init__(self,firstname, lastname):\n",
    "        self.firstname = firstname\n",
    "        self.lastname = lastname\n",
    "        self.incomes = []\n",
    "        self.expenses = []\n",
    "\n",
    "    def total_income(self):\n",
    "        total=0\n",
    "        for income in self.incomes:\n",
    "            total+=income[0]\n",
    "        return total\n",
    "    \n",
    "    def total_expense(self):\n",
    "        total=0\n",
    "        for expense in self.expenses:\n",
    "            total+=expense[0]\n",
    "        return total\n",
    "    \n",
    "    def account_info(self):\n",
    "        return f'Account name: {self.firstname} {self.lastname}\\n Incomes: {self.incomes}, Expenses: {self.expenses}'\n",
    "    \n",
    "    def add_income(self, income, desc):\n",
    "        self.incomes.append((income, desc))\n",
    "\n",
    "    def add_expense(self, expense, desc):\n",
    "        self.expenses.append((expense, desc))\n",
    "\n",
    "    def account_balance(self):\n",
    "        return self.total_income()-self.total_expense()\n",
    "    \n",
    "rwj=PersonAccount(\"Romeo\", \"Joseph\")\n",
    "rwj.add_income(7000,\"Selling lentils\")\n",
    "rwj.add_expense(5000, \"Theyfriend\")\n",
    "print(rwj.account_info())\n",
    "print(\"Account balance \",rwj.account_balance())"
   ]
  }
 ],
 "metadata": {
  "kernelspec": {
   "display_name": "Python 3",
   "language": "python",
   "name": "python3"
  },
  "language_info": {
   "codemirror_mode": {
    "name": "ipython",
    "version": 3
   },
   "file_extension": ".py",
   "mimetype": "text/x-python",
   "name": "python",
   "nbconvert_exporter": "python",
   "pygments_lexer": "ipython3",
   "version": "3.13.1"
  }
 },
 "nbformat": 4,
 "nbformat_minor": 5
}
